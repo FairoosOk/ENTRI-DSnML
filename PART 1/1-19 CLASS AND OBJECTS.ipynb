{
 "cells": [
  {
   "cell_type": "markdown",
   "metadata": {},
   "source": [
    "# 19: CLASS AND OBJECTS"
   ]
  },
  {
   "cell_type": "markdown",
   "metadata": {},
   "source": [
    "![](class.png)"
   ]
  },
  {
   "cell_type": "markdown",
   "metadata": {},
   "source": [
    "![](object.png)"
   ]
  },
  {
   "cell_type": "code",
   "execution_count": 3,
   "metadata": {},
   "outputs": [],
   "source": [
    "class Human:\n",
    "    def __init__(self,n,o):\n",
    "        self.name=n\n",
    "        self.occupation=o\n",
    "        \n",
    "    def do_work(self):\n",
    "        if(self.occupation==\"actor\"):\n",
    "            print(self.name,\"acting movies\")\n",
    "        elif(self.occupation==\"player\"):\n",
    "            print(self.name,\"is a good player\")\n",
    "    def speak(self):\n",
    "        print(\"Try to succeed in your career\")"
   ]
  },
  {
   "cell_type": "code",
   "execution_count": 4,
   "metadata": {},
   "outputs": [
    {
     "name": "stdout",
     "output_type": "stream",
     "text": [
      "Tom Cruise acting movies\n",
      "Try to succeed in your career\n"
     ]
    }
   ],
   "source": [
    "Tom=Human(\"Tom Cruise\",\"actor\")\n",
    "Tom.do_work()\n",
    "Tom.speak()"
   ]
  },
  {
   "cell_type": "code",
   "execution_count": 5,
   "metadata": {},
   "outputs": [
    {
     "name": "stdout",
     "output_type": "stream",
     "text": [
      "Maria Sharapova is a good player\n",
      "Try to succeed in your career\n"
     ]
    }
   ],
   "source": [
    "maria=Human(\"Maria Sharapova\",\"player\")\n",
    "maria.do_work()\n",
    "maria.speak()"
   ]
  },
  {
   "cell_type": "code",
   "execution_count": 6,
   "metadata": {},
   "outputs": [
    {
     "name": "stdout",
     "output_type": "stream",
     "text": [
      "SB Account with Amount 10000\n",
      "SB Account with Amount 16000\n",
      "SB Account with Amount 9000\n",
      "SB Account with Amount 15000\n"
     ]
    }
   ],
   "source": [
    "class BankAccount:\n",
    "\tdef __init__(self,Type,Amount):\n",
    "\t\tself.Type=Type\n",
    "\t\tself.Amount=Amount\n",
    "\n",
    "\tdef __str__(self):\n",
    "\t\treturn\"{} Account with Amount {}\".format(self.Type,self.Amount)\n",
    "\n",
    "\tdef deposit(self,deposit_amount):\n",
    "\t\tself.Amount+=deposit_amount\n",
    "\t\t\n",
    "\tdef withdraw(self,withdraw_amount):\n",
    "\t\tself.Amount-=withdraw_amount\n",
    "\n",
    "\n",
    "Fairoos= BankAccount(\"SB\",10000)\n",
    "print(Fairoos)\n",
    "Fairoos.deposit(6000)\n",
    "print(Fairoos)\n",
    "Fairoos.withdraw(7000)\n",
    "print(Fairoos)\n",
    "Fairoos.deposit(6000)\n",
    "print(Fairoos)"
   ]
  },
  {
   "cell_type": "code",
   "execution_count": 7,
   "metadata": {},
   "outputs": [
    {
     "name": "stdout",
     "output_type": "stream",
     "text": [
      "SB Account with Amount 5000\n",
      "SB Account with Amount 7000\n",
      "SB Account with Amount 4000\n"
     ]
    }
   ],
   "source": [
    "Antony= BankAccount(\"SB\",5000)\n",
    "print(Antony)\n",
    "Antony.deposit(2000)\n",
    "print(Antony)\n",
    "Antony.withdraw(3000)\n",
    "print(Antony)"
   ]
  }
 ],
 "metadata": {
  "kernelspec": {
   "display_name": "Python 3",
   "language": "python",
   "name": "python3"
  },
  "language_info": {
   "codemirror_mode": {
    "name": "ipython",
    "version": 3
   },
   "file_extension": ".py",
   "mimetype": "text/x-python",
   "name": "python",
   "nbconvert_exporter": "python",
   "pygments_lexer": "ipython3",
   "version": "3.7.3"
  }
 },
 "nbformat": 4,
 "nbformat_minor": 2
}
