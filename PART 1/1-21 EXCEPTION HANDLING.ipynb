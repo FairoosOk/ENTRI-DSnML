{
 "cells": [
  {
   "cell_type": "markdown",
   "metadata": {},
   "source": [
    "# 21: EXCEPTION HANDLING"
   ]
  },
  {
   "cell_type": "code",
   "execution_count": 8,
   "metadata": {},
   "outputs": [
    {
     "name": "stdout",
     "output_type": "stream",
     "text": [
      "Enter 1st Number: 56\n",
      "Enter 2nd Number: 0\n"
     ]
    },
    {
     "ename": "ZeroDivisionError",
     "evalue": "division by zero",
     "output_type": "error",
     "traceback": [
      "\u001b[1;31m---------------------------------------------------------------------------\u001b[0m",
      "\u001b[1;31mZeroDivisionError\u001b[0m                         Traceback (most recent call last)",
      "\u001b[1;32m<ipython-input-8-31386d555e6d>\u001b[0m in \u001b[0;36m<module>\u001b[1;34m\u001b[0m\n\u001b[0;32m      4\u001b[0m \u001b[1;33m\u001b[0m\u001b[0m\n\u001b[0;32m      5\u001b[0m \u001b[1;33m\u001b[0m\u001b[0m\n\u001b[1;32m----> 6\u001b[1;33m \u001b[0mz\u001b[0m\u001b[1;33m=\u001b[0m\u001b[0mint\u001b[0m\u001b[1;33m(\u001b[0m\u001b[0mx\u001b[0m\u001b[1;33m)\u001b[0m\u001b[1;33m/\u001b[0m\u001b[0mint\u001b[0m\u001b[1;33m(\u001b[0m\u001b[0my\u001b[0m\u001b[1;33m)\u001b[0m\u001b[1;33m\u001b[0m\u001b[1;33m\u001b[0m\u001b[0m\n\u001b[0m\u001b[0;32m      7\u001b[0m \u001b[0mprint\u001b[0m\u001b[1;33m(\u001b[0m\u001b[1;34m\"The Result is: \"\u001b[0m\u001b[1;33m,\u001b[0m\u001b[0mz\u001b[0m\u001b[1;33m)\u001b[0m\u001b[1;33m\u001b[0m\u001b[1;33m\u001b[0m\u001b[0m\n\u001b[0;32m      8\u001b[0m \u001b[1;33m\u001b[0m\u001b[0m\n",
      "\u001b[1;31mZeroDivisionError\u001b[0m: division by zero"
     ]
    }
   ],
   "source": [
    "x=input(\"Enter 1st Number: \")\n",
    "y=input(\"Enter 2nd Number: \")\n",
    "\n",
    "\n",
    "    \n",
    "z=int(x)/int(y)\n",
    "print(\"The Result is: \",z)\n",
    "\n",
    "print(\"Our Program is Working Perfectly\")\n"
   ]
  },
  {
   "cell_type": "code",
   "execution_count": 9,
   "metadata": {},
   "outputs": [
    {
     "name": "stdout",
     "output_type": "stream",
     "text": [
      "Enter 1st Number: 50\n",
      "Enter 2nd Number: 0\n",
      "division by zero  Exception Happened\n",
      "The Result is:  None\n",
      "Our Program is Working Perfectly\n"
     ]
    }
   ],
   "source": [
    "x=input(\"Enter 1st Number: \")\n",
    "y=input(\"Enter 2nd Number: \")\n",
    "\n",
    "try:\n",
    "    z=int(x)/int(y)\n",
    "except Exception as e:\n",
    "    print(e,\" Exception Happened\")\n",
    "    z=None\n",
    "    \n",
    "print(\"The Result is: \",z)\n",
    "\n",
    "print(\"Our Program is Working Perfectly\")\n"
   ]
  },
  {
   "cell_type": "code",
   "execution_count": 10,
   "metadata": {},
   "outputs": [
    {
     "name": "stdout",
     "output_type": "stream",
     "text": [
      "Enter 1st Number: 50\n",
      "Enter 2nd Number: o\n",
      "invalid literal for int() with base 10: 'o'  Exception Happened\n",
      "The Result is:  None\n",
      "Our Program is Working Perfectly\n"
     ]
    }
   ],
   "source": [
    "x=input(\"Enter 1st Number: \")\n",
    "y=input(\"Enter 2nd Number: \")\n",
    "\n",
    "try:\n",
    "    z=int(x)/int(y)\n",
    "except Exception as e:\n",
    "    print(e,\" Exception Happened\")\n",
    "    z=None\n",
    "    \n",
    "print(\"The Result is: \",z)\n",
    "\n",
    "print(\"Our Program is Working Perfectly\")\n"
   ]
  }
 ],
 "metadata": {
  "kernelspec": {
   "display_name": "Python 3",
   "language": "python",
   "name": "python3"
  },
  "language_info": {
   "codemirror_mode": {
    "name": "ipython",
    "version": 3
   },
   "file_extension": ".py",
   "mimetype": "text/x-python",
   "name": "python",
   "nbconvert_exporter": "python",
   "pygments_lexer": "ipython3",
   "version": "3.7.3"
  }
 },
 "nbformat": 4,
 "nbformat_minor": 2
}
