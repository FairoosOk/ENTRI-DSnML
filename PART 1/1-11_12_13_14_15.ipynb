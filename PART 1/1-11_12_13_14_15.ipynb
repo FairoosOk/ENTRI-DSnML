{
 "cells": [
  {
   "cell_type": "markdown",
   "metadata": {},
   "source": [
    "# 11: FUNCTIONS"
   ]
  },
  {
   "cell_type": "markdown",
   "metadata": {},
   "source": [
    "![](function.jpg)"
   ]
  },
  {
   "cell_type": "code",
   "execution_count": null,
   "metadata": {},
   "outputs": [],
   "source": [
    "import turtle\n",
    "\n",
    "turtle.pensize(4)\n",
    "turtle.speed(5)\n",
    "turtle.color(\"indigo\")\n",
    "\n",
    "def shape(size,sides):\n",
    "    for i in range(sides):\n",
    "        turtle.forward(size)\n",
    "        turtle.left(360/sides)"
   ]
  },
  {
   "cell_type": "code",
   "execution_count": null,
   "metadata": {},
   "outputs": [],
   "source": [
    "import turtle\n",
    "\n",
    "turtle.pensize(4)\n",
    "turtle.speed(5)\n",
    "turtle.color(\"indigo\")\n",
    "\n",
    "def shape(size,sides):\n",
    "    for i in range(sides):\n",
    "        turtle.forward(size)\n",
    "        turtle.left(360/sides)\n",
    "\n",
    "shape(100,4)   # Calling function with values of size and sides\n",
    "turtle.done()"
   ]
  },
  {
   "cell_type": "markdown",
   "metadata": {},
   "source": [
    "Practice:\n",
    "    For a calculator app, define four basic functions sum,sub,mul and div with 2 arguments each,\n",
    "    then show it's working by calling all these functions with some values.\n",
    "    "
   ]
  },
  {
   "cell_type": "markdown",
   "metadata": {},
   "source": [
    "# 12: VARIABLES"
   ]
  },
  {
   "cell_type": "code",
   "execution_count": 1,
   "metadata": {},
   "outputs": [
    {
     "name": "stdout",
     "output_type": "stream",
     "text": [
      "10\n",
      "<class 'int'>\n",
      "Ajay\n",
      "<class 'str'>\n",
      "20\n"
     ]
    },
    {
     "ename": "NameError",
     "evalue": "name 'Y' is not defined",
     "output_type": "error",
     "traceback": [
      "\u001b[1;31m---------------------------------------------------------------------------\u001b[0m",
      "\u001b[1;31mNameError\u001b[0m                                 Traceback (most recent call last)",
      "\u001b[1;32m<ipython-input-1-c82e6263a478>\u001b[0m in \u001b[0;36m<module>\u001b[1;34m\u001b[0m\n\u001b[0;32m      7\u001b[0m \u001b[0my\u001b[0m\u001b[1;33m=\u001b[0m\u001b[1;36m20\u001b[0m\u001b[1;33m\u001b[0m\u001b[1;33m\u001b[0m\u001b[0m\n\u001b[0;32m      8\u001b[0m \u001b[0mprint\u001b[0m\u001b[1;33m(\u001b[0m\u001b[0my\u001b[0m\u001b[1;33m)\u001b[0m\u001b[1;33m\u001b[0m\u001b[1;33m\u001b[0m\u001b[0m\n\u001b[1;32m----> 9\u001b[1;33m \u001b[0mprint\u001b[0m\u001b[1;33m(\u001b[0m\u001b[0mY\u001b[0m\u001b[1;33m)\u001b[0m\u001b[1;33m\u001b[0m\u001b[1;33m\u001b[0m\u001b[0m\n\u001b[0m",
      "\u001b[1;31mNameError\u001b[0m: name 'Y' is not defined"
     ]
    }
   ],
   "source": [
    "y=10   \n",
    "name=\"Ajay\"\n",
    "print(y)\n",
    "print(type(y))\n",
    "print(name)\n",
    "print(type(name))\n",
    "y=20\n",
    "print(y)\n",
    "print(Y)"
   ]
  },
  {
   "cell_type": "code",
   "execution_count": 2,
   "metadata": {},
   "outputs": [
    {
     "name": "stdout",
     "output_type": "stream",
     "text": [
      "10800\n"
     ]
    }
   ],
   "source": [
    "rent=10000\n",
    "gas=500\n",
    "gro=300\n",
    "Total=rent+gas+gro\n",
    "print(Total)"
   ]
  },
  {
   "cell_type": "code",
   "execution_count": 3,
   "metadata": {},
   "outputs": [
    {
     "name": "stdout",
     "output_type": "stream",
     "text": [
      "10960\n"
     ]
    }
   ],
   "source": [
    "rent=10100\n",
    "gas=520\n",
    "gro=340\n",
    "Total=rent+gas+gro\n",
    "print(Total)"
   ]
  },
  {
   "cell_type": "markdown",
   "metadata": {},
   "source": [
    "Variables can be with Capial Letters,Small Letters,Numbers,and Underscores(_).\n",
    "But Never start with Numbers. Also no other special characters can be used(like #%^@ )"
   ]
  },
  {
   "cell_type": "code",
   "execution_count": 4,
   "metadata": {},
   "outputs": [
    {
     "name": "stdout",
     "output_type": "stream",
     "text": [
      "4\n",
      "55\n",
      "88\n"
     ]
    }
   ],
   "source": [
    "__=4\n",
    "print(__)\n",
    "_num=55\n",
    "print(_num)\n",
    "num_1=88\n",
    "print(num_1)"
   ]
  },
  {
   "cell_type": "code",
   "execution_count": 5,
   "metadata": {},
   "outputs": [
    {
     "ename": "SyntaxError",
     "evalue": "invalid syntax (<ipython-input-5-7e9bd4ffb954>, line 1)",
     "output_type": "error",
     "traceback": [
      "\u001b[1;36m  File \u001b[1;32m\"<ipython-input-5-7e9bd4ffb954>\"\u001b[1;36m, line \u001b[1;32m1\u001b[0m\n\u001b[1;33m    2ndNum=99\u001b[0m\n\u001b[1;37m         ^\u001b[0m\n\u001b[1;31mSyntaxError\u001b[0m\u001b[1;31m:\u001b[0m invalid syntax\n"
     ]
    }
   ],
   "source": [
    "2ndNum=99"
   ]
  },
  {
   "cell_type": "code",
   "execution_count": 6,
   "metadata": {},
   "outputs": [
    {
     "ename": "SyntaxError",
     "evalue": "can't assign to operator (<ipython-input-6-b18d8ed1d5e8>, line 1)",
     "output_type": "error",
     "traceback": [
      "\u001b[1;36m  File \u001b[1;32m\"<ipython-input-6-b18d8ed1d5e8>\"\u001b[1;36m, line \u001b[1;32m1\u001b[0m\n\u001b[1;33m    book@4=100\u001b[0m\n\u001b[1;37m              ^\u001b[0m\n\u001b[1;31mSyntaxError\u001b[0m\u001b[1;31m:\u001b[0m can't assign to operator\n"
     ]
    }
   ],
   "source": [
    "book@4=100"
   ]
  },
  {
   "cell_type": "code",
   "execution_count": 7,
   "metadata": {},
   "outputs": [
    {
     "name": "stdout",
     "output_type": "stream",
     "text": [
      "['False', 'None', 'True', 'and', 'as', 'assert', 'async', 'await', 'break', 'class', 'continue', 'def', 'del', 'elif', 'else', 'except', 'finally', 'for', 'from', 'global', 'if', 'import', 'in', 'is', 'lambda', 'nonlocal', 'not', 'or', 'pass', 'raise', 'return', 'try', 'while', 'with', 'yield']\n"
     ]
    }
   ],
   "source": [
    "#NEVER USE KEYWORDS AS VARIABLES\n",
    "import keyword\n",
    "print(keyword.kwlist)"
   ]
  },
  {
   "cell_type": "markdown",
   "metadata": {},
   "source": [
    "# 13: LOCAL AND GLOBAL VARIABLES"
   ]
  },
  {
   "cell_type": "code",
   "execution_count": 6,
   "metadata": {},
   "outputs": [
    {
     "name": "stdout",
     "output_type": "stream",
     "text": [
      "a:  300\n",
      "b:  45\n",
      "The Sum is:  345\n"
     ]
    }
   ],
   "source": [
    "def sum(a,b):\n",
    "    print(\"a: \",a)\n",
    "    print(\"b: \",b)\n",
    "    \n",
    "    total=a+b\n",
    "    print(\"The Sum is: \",total)\n",
    "    \n",
    "sum(300,45)    "
   ]
  },
  {
   "cell_type": "code",
   "execution_count": 7,
   "metadata": {},
   "outputs": [
    {
     "name": "stdout",
     "output_type": "stream",
     "text": [
      "a:  34\n",
      "b:  400\n",
      "The Sum is:  434\n",
      "The Result is:  434\n"
     ]
    }
   ],
   "source": [
    "#RETURN\n",
    "def sum(a,b):\n",
    "    print(\"a: \",a)\n",
    "    print(\"b: \",b)\n",
    "    \n",
    "    total=a+b\n",
    "    print(\"The Sum is: \",total)\n",
    "    return total\n",
    "    \n",
    "result=sum(34,400)\n",
    "print(\"The Result is: \", result)"
   ]
  },
  {
   "cell_type": "code",
   "execution_count": 9,
   "metadata": {},
   "outputs": [
    {
     "name": "stdout",
     "output_type": "stream",
     "text": [
      "a:  34\n",
      "b:  45\n",
      "The Result is:  79\n",
      "The total is:  79\n"
     ]
    }
   ],
   "source": [
    "#LOCAL VARIABLE\n",
    "\n",
    "def sum(a,b):\n",
    "    print(\"a: \",a)\n",
    "    print(\"b: \",b)\n",
    "    \n",
    "    global total\n",
    "    total=a+b\n",
    "    return total\n",
    "    \n",
    "result=sum(34,45)\n",
    "print(\"The Result is: \", result)\n",
    "print(\"The total is: \",total)"
   ]
  },
  {
   "cell_type": "code",
   "execution_count": 11,
   "metadata": {},
   "outputs": [
    {
     "name": "stdout",
     "output_type": "stream",
     "text": [
      "a:  25\n",
      "b:  15\n",
      "x:  10\n",
      "The Sum is:  60\n",
      "The Result is:  60\n",
      "20\n"
     ]
    }
   ],
   "source": [
    "#GLOBAL VARIABLE\n",
    "\n",
    "def sum(a,b):\n",
    "    print(\"a: \",a)\n",
    "    print(\"b: \",b)\n",
    "    global x\n",
    "    print(\"x: \",x)\n",
    "    x=20\n",
    "    total=a+b+x\n",
    "    print(\"The Sum is: \",total)\n",
    "    return total\n",
    "\n",
    "x=10\n",
    "result=sum(25,15)\n",
    "print(\"The Result is: \", result)\n",
    "print(x)"
   ]
  },
  {
   "cell_type": "code",
   "execution_count": 12,
   "metadata": {},
   "outputs": [
    {
     "name": "stdout",
     "output_type": "stream",
     "text": [
      "Enter Your First Number600\n",
      "Enter Your Second Number3000\n",
      "a:  600\n",
      "b:  3000\n",
      "The Result is:  3600\n"
     ]
    }
   ],
   "source": [
    "#WITH USER INPUTS\n",
    "\n",
    "def sum(a,b):\n",
    "    print(\"a: \",a)\n",
    "    print(\"b: \",b)\n",
    "\n",
    "    total=a+b\n",
    "    return total\n",
    "\n",
    "x=int(input(\"Enter Your First Number\"))\n",
    "y=int(input(\"Enter Your Second Number\"))\n",
    "result=sum(x,y)\n",
    "print(\"The Result is: \",result)"
   ]
  },
  {
   "cell_type": "markdown",
   "metadata": {},
   "source": [
    "# 14: DATA TYPES AND OPERATORS"
   ]
  },
  {
   "cell_type": "code",
   "execution_count": null,
   "metadata": {},
   "outputs": [],
   "source": [
    "#Everything in Python is an object and every object in Python has a type. Some of the basic types\n",
    "#include:\n",
    "#     int (integer; a whole number with no decimal place)\n",
    "#          10\n",
    "#          -3\n",
    "#     float (float; a number that has a decimal place)\n",
    "#          7.41\n",
    "#          -0.006\n",
    "#     str (string; a sequence of characters enclosed in single quotes, double quotes, or triple\n",
    "#           quotes)\n",
    "#          'this is a string using single quotes'\n",
    "#          \"this is a string using double quotes\"\n",
    "#          '''this is a triple quoted string using single quotes'''\n",
    "#          \"\"\"this is a triple quoted string using double quotes\"\"\"\n",
    "#     bool (boolean; a binary value that is either true or false)\n",
    "#          True\n",
    "#          False\n",
    "#     NoneType (a special type representing the absence of a value)\n",
    "#          None          "
   ]
  },
  {
   "cell_type": "code",
   "execution_count": 15,
   "metadata": {},
   "outputs": [
    {
     "name": "stdout",
     "output_type": "stream",
     "text": [
      "100.5\n",
      "<class 'float'>\n"
     ]
    }
   ],
   "source": [
    "#BY ASSAIGNING ITSELF IT DEFINES ITS TYPE\n",
    "num=100.5\n",
    "print(num)\n",
    "print(type(num))"
   ]
  },
  {
   "cell_type": "code",
   "execution_count": 18,
   "metadata": {},
   "outputs": [
    {
     "name": "stdout",
     "output_type": "stream",
     "text": [
      "None\n",
      "<class 'NoneType'>\n"
     ]
    }
   ],
   "source": [
    "x=None\n",
    "print(x)\n",
    "print(type(x))"
   ]
  },
  {
   "cell_type": "code",
   "execution_count": 17,
   "metadata": {},
   "outputs": [
    {
     "data": {
      "text/plain": [
       "float"
      ]
     },
     "execution_count": 17,
     "metadata": {},
     "output_type": "execute_result"
    }
   ],
   "source": [
    "n=-3.14\n",
    "type(n)"
   ]
  },
  {
   "cell_type": "code",
   "execution_count": 19,
   "metadata": {},
   "outputs": [
    {
     "data": {
      "text/plain": [
       "bool"
      ]
     },
     "execution_count": 19,
     "metadata": {},
     "output_type": "execute_result"
    }
   ],
   "source": [
    "add=True\n",
    "type(add)"
   ]
  },
  {
   "cell_type": "code",
   "execution_count": 20,
   "metadata": {},
   "outputs": [
    {
     "data": {
      "text/plain": [
       "(2.0, 16, 25, 8)"
      ]
     },
     "execution_count": 20,
     "metadata": {},
     "output_type": "execute_result"
    }
   ],
   "source": [
    "# BASIC OPERATORS\n",
    "\n",
    "# In Python, there are different types of operators (special symbols) that operate on different \n",
    "# values.\n",
    "# Some of the basic operators include:\n",
    "# Arithmetic operators\n",
    "#     + (addition)\n",
    "#     - (subtraction)\n",
    "#     * (multiplication)\n",
    "#     / (division)\n",
    "#     ** (exponent)\n",
    "4/2, 4**2 ,5**2,2**3"
   ]
  },
  {
   "cell_type": "code",
   "execution_count": 23,
   "metadata": {},
   "outputs": [
    {
     "name": "stdout",
     "output_type": "stream",
     "text": [
      "5\n",
      "15\n",
      "45\n"
     ]
    }
   ],
   "source": [
    "# Assignment operators\n",
    "#     = (assign a value)\n",
    "#     += (add and re-assign; increment)\n",
    "#     -= (subtract and re-assign; decrement)\n",
    "#     *= (multiply and re-assign)\n",
    "\n",
    "m=5\n",
    "print(m)\n",
    "m*=3\n",
    "print(m)\n",
    "m*=3\n",
    "print(m)"
   ]
  },
  {
   "cell_type": "code",
   "execution_count": 24,
   "metadata": {},
   "outputs": [
    {
     "data": {
      "text/plain": [
       "(True, False)"
      ]
     },
     "execution_count": 24,
     "metadata": {},
     "output_type": "execute_result"
    }
   ],
   "source": [
    "# Comparison operators (return either True or False )\n",
    "#     == (equal to)\n",
    "#     != (not equal to)\n",
    "#     < (less than)\n",
    "#     <= (less than or equal to)\n",
    "#     > (greater than)\n",
    "#     >= (greater than or equal to)\n",
    "\n",
    "5<=10,5==10"
   ]
  },
  {
   "cell_type": "code",
   "execution_count": 26,
   "metadata": {},
   "outputs": [
    {
     "data": {
      "text/plain": [
       "False"
      ]
     },
     "execution_count": 26,
     "metadata": {},
     "output_type": "execute_result"
    }
   ],
   "source": [
    "3<1"
   ]
  },
  {
   "cell_type": "markdown",
   "metadata": {},
   "source": [
    "# 15: STRING OPERATIONS AND SPECIAL OPERATORS"
   ]
  },
  {
   "cell_type": "code",
   "execution_count": 31,
   "metadata": {},
   "outputs": [
    {
     "name": "stdout",
     "output_type": "stream",
     "text": [
      "I LOVE PYTHON  IT IS VERY EASY\n"
     ]
    }
   ],
   "source": [
    "#STRING CONCATENATION\n",
    "STR1=\"I LOVE PYTHON \"\n",
    "STR2= \"IT IS VERY EASY\"\n",
    "print(STR1+' '+STR2)"
   ]
  },
  {
   "cell_type": "code",
   "execution_count": 32,
   "metadata": {},
   "outputs": [
    {
     "data": {
      "text/plain": [
       "'I LOVE PYTHON I LOVE PYTHON I LOVE PYTHON '"
      ]
     },
     "execution_count": 32,
     "metadata": {},
     "output_type": "execute_result"
    }
   ],
   "source": [
    "STR1*3"
   ]
  },
  {
   "cell_type": "code",
   "execution_count": 35,
   "metadata": {},
   "outputs": [
    {
     "data": {
      "text/plain": [
       "'L'"
      ]
     },
     "execution_count": 35,
     "metadata": {},
     "output_type": "execute_result"
    }
   ],
   "source": [
    "#INDEX IN STRING\n",
    "STR1[2]"
   ]
  },
  {
   "cell_type": "code",
   "execution_count": 38,
   "metadata": {},
   "outputs": [
    {
     "data": {
      "text/plain": [
       "'N'"
      ]
     },
     "execution_count": 38,
     "metadata": {},
     "output_type": "execute_result"
    }
   ],
   "source": [
    "STR1[-2]"
   ]
  },
  {
   "cell_type": "code",
   "execution_count": 40,
   "metadata": {},
   "outputs": [
    {
     "data": {
      "text/plain": [
       "'PYTHON '"
      ]
     },
     "execution_count": 40,
     "metadata": {},
     "output_type": "execute_result"
    }
   ],
   "source": [
    "STR1[7:14]"
   ]
  },
  {
   "cell_type": "code",
   "execution_count": 41,
   "metadata": {},
   "outputs": [
    {
     "data": {
      "text/plain": [
       "'VERY EASY'"
      ]
     },
     "execution_count": 41,
     "metadata": {},
     "output_type": "execute_result"
    }
   ],
   "source": [
    "STR2[6:]"
   ]
  },
  {
   "cell_type": "code",
   "execution_count": 42,
   "metadata": {},
   "outputs": [
    {
     "data": {
      "text/plain": [
       "'IT IS'"
      ]
     },
     "execution_count": 42,
     "metadata": {},
     "output_type": "execute_result"
    }
   ],
   "source": [
    "STR2[:5]"
   ]
  },
  {
   "cell_type": "code",
   "execution_count": 43,
   "metadata": {},
   "outputs": [
    {
     "data": {
      "text/plain": [
       "7"
      ]
     },
     "execution_count": 43,
     "metadata": {},
     "output_type": "execute_result"
    }
   ],
   "source": [
    "STR1.find(\"PYTHON\")"
   ]
  },
  {
   "cell_type": "code",
   "execution_count": 44,
   "metadata": {},
   "outputs": [
    {
     "data": {
      "text/plain": [
       "'it is very easy'"
      ]
     },
     "execution_count": 44,
     "metadata": {},
     "output_type": "execute_result"
    }
   ],
   "source": [
    "STR2.lower()"
   ]
  },
  {
   "cell_type": "code",
   "execution_count": 45,
   "metadata": {},
   "outputs": [
    {
     "data": {
      "text/plain": [
       "'I LIKE PYTHON '"
      ]
     },
     "execution_count": 45,
     "metadata": {},
     "output_type": "execute_result"
    }
   ],
   "source": [
    "STR1.replace(\"LOVE\",\"LIKE\")"
   ]
  },
  {
   "cell_type": "markdown",
   "metadata": {},
   "source": [
    "Ref: STRING METHODS\n",
    "https://docs.python.org/3/library/stdtypes.html#string-methods"
   ]
  },
  {
   "cell_type": "code",
   "execution_count": 47,
   "metadata": {},
   "outputs": [
    {
     "data": {
      "text/plain": [
       "2"
      ]
     },
     "execution_count": 47,
     "metadata": {},
     "output_type": "execute_result"
    }
   ],
   "source": [
    "# Special Operators\n",
    "# Floor Division\n",
    "13//6"
   ]
  },
  {
   "cell_type": "code",
   "execution_count": 46,
   "metadata": {},
   "outputs": [
    {
     "data": {
      "text/plain": [
       "3.25"
      ]
     },
     "execution_count": 46,
     "metadata": {},
     "output_type": "execute_result"
    }
   ],
   "source": [
    "13/4"
   ]
  },
  {
   "cell_type": "code",
   "execution_count": 48,
   "metadata": {},
   "outputs": [
    {
     "data": {
      "text/plain": [
       "1"
      ]
     },
     "execution_count": 48,
     "metadata": {},
     "output_type": "execute_result"
    }
   ],
   "source": [
    "# Modulo Division\n",
    "9%2"
   ]
  },
  {
   "cell_type": "code",
   "execution_count": 49,
   "metadata": {},
   "outputs": [
    {
     "data": {
      "text/plain": [
       "0"
      ]
     },
     "execution_count": 49,
     "metadata": {},
     "output_type": "execute_result"
    }
   ],
   "source": [
    "6%2      #can find odd or even"
   ]
  },
  {
   "cell_type": "code",
   "execution_count": 50,
   "metadata": {},
   "outputs": [
    {
     "data": {
      "text/plain": [
       "0"
      ]
     },
     "execution_count": 50,
     "metadata": {},
     "output_type": "execute_result"
    }
   ],
   "source": [
    "20%2"
   ]
  },
  {
   "cell_type": "code",
   "execution_count": null,
   "metadata": {},
   "outputs": [],
   "source": []
  }
 ],
 "metadata": {
  "kernelspec": {
   "display_name": "Python 3",
   "language": "python",
   "name": "python3"
  },
  "language_info": {
   "codemirror_mode": {
    "name": "ipython",
    "version": 3
   },
   "file_extension": ".py",
   "mimetype": "text/x-python",
   "name": "python",
   "nbconvert_exporter": "python",
   "pygments_lexer": "ipython3",
   "version": "3.7.3"
  }
 },
 "nbformat": 4,
 "nbformat_minor": 2
}
